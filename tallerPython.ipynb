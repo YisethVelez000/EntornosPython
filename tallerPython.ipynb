{
 "cells": [
  {
   "cell_type": "markdown",
   "metadata": {},
   "source": [
    "TALLER PYTHON"
   ]
  },
  {
   "cell_type": "markdown",
   "metadata": {},
   "source": [
    "1. En una tienda de comestibles, se necesita una lista de productos para \n",
    "realizar un inventario. Crea una lista de productos que incluya nombre, \n",
    "precio y cantidad.\n",
    "• Crea una lista vacía para almacenar los productos.\n",
    "• Pide al usuario que ingrese el nombre, precio y cantidad de cada \n",
    "producto.\n",
    "• Agrega cada producto a la lista de productos.\n",
    "• Imprime la lista de productos.\n"
   ]
  },
  {
   "cell_type": "code",
   "execution_count": 2,
   "metadata": {},
   "outputs": [
    {
     "name": "stdout",
     "output_type": "stream",
     "text": [
      "Desea agregar un producto?\n",
      "Agregar producto\n",
      "{'Manzana': {'precio': 2500.0, 'cantidad': 5}}\n",
      "Desea agregar un producto?\n",
      "Agregar producto\n",
      "{'Manzana': {'precio': 2500.0, 'cantidad': 5}, 'Pepsi': {'precio': 5000.0, 'cantidad': 10}}\n",
      "Desea agregar un producto?\n"
     ]
    }
   ],
   "source": [
    "productos = {\n",
    "}\n",
    "\n",
    "def agregar_producto():\n",
    "    print(\"Agregar producto\")\n",
    "    nombre = input(\"Nombre: \")\n",
    "    precio = float(input(\"Precio: \"))\n",
    "    cantidad = int(input(\"Cantidad: \"))\n",
    "    productos[nombre] = {\n",
    "        \"precio\": precio,\n",
    "        \"cantidad\": cantidad\n",
    "    }\n",
    "\n",
    "\n",
    "while True:\n",
    "    print('Desea agregar un producto?')\n",
    "    respuesta = input('Si/No: ')\n",
    "    if respuesta == 'Si':\n",
    "        agregar_producto()\n",
    "        print(productos)\n",
    "    else:\n",
    "        break\n"
   ]
  },
  {
   "cell_type": "markdown",
   "metadata": {},
   "source": [
    "2. En una biblioteca, se necesita un programa que mantenga una lista de \n",
    "libros prestados. Crea una lista de libros prestados que incluya el título \n",
    "del libro y la fecha de devolución.\n",
    "• Crea una lista vacía para almacenar los libros prestados.\n",
    "• Pide al usuario que ingrese el título del libro y la fecha de devolución.\n",
    "• Agrega cada libro prestado a la lista de libros prestados.\n",
    "• Imprime la lista de libros prestados."
   ]
  },
  {
   "cell_type": "code",
   "execution_count": 5,
   "metadata": {},
   "outputs": [
    {
     "name": "stdout",
     "output_type": "stream",
     "text": [
      "¿Deseas agregar un libro prestado?\n",
      "Agregar Libro Prestado\n",
      "[{'Título': 'Hola Mundo Para Principiantes', 'Fecha de Devolución': '03/05/25'}]\n",
      "¿Deseas agregar un libro prestado?\n"
     ]
    }
   ],
   "source": [
    "libros_prestados = []\n",
    "\n",
    "def agregar_libro_prestado():\n",
    "    print(\"Agregar Libro Prestado\")\n",
    "    titulo = input(\"Título: \")\n",
    "    fecha_devolucion = input(\"Fecha de Devolución: \")\n",
    "    libros_prestados.append({\"Título\": titulo, \"Fecha de Devolución\": fecha_devolucion})\n",
    "\n",
    "while True:\n",
    "    print(\"¿Deseas agregar un libro prestado?\")\n",
    "    respuesta = input(\"Sí/No: \")\n",
    "    if respuesta == \"Sí\" or respuesta == \"Si\" or respuesta == \"sí\" or respuesta == \"si\":\n",
    "        agregar_libro_prestado()\n",
    "        print(libros_prestados)\n",
    "    else:\n",
    "        break\n"
   ]
  },
  {
   "cell_type": "markdown",
   "metadata": {},
   "source": [
    "3. En una sala de cine, se necesita un programa que mantenga una lista de \n",
    "películas en cartelera. Crea una lista de películas que incluya el título, el \n",
    "género y la duración.\n",
    "Crea un menú que permita:\n",
    "• Almacenar las películas. Pide al usuario que ingrese el título, género y \n",
    "duración de cada película.\n",
    "• Buscar una película por el nombre y mostrar su información \n",
    "• Eliminar una película de la lista."
   ]
  },
  {
   "cell_type": "code",
   "execution_count": null,
   "metadata": {},
   "outputs": [],
   "source": [
    "peliculas = []\n",
    "\n",
    "def almacenar_pelicula():\n",
    "    print(\"Agregar Película\")\n",
    "    titulo = input(\"Título: \")\n",
    "    genero = input(\"Género: \")\n",
    "    duracion = input(\"Duración: \")\n",
    "    peliculas.append({\"Título\": titulo, \"Género\": genero, \"Duración\": duracion})\n",
    "\n",
    "def buscar_pelicula():\n",
    "    print(\"Buscar Película\")\n",
    "    titulo = input(\"Ingrese el título de la película: \")\n",
    "    for pelicula in peliculas:\n",
    "        if pelicula[\"Título\"] == titulo:\n",
    "            print(\"Información de la película:\")\n",
    "            print(f\"Título: {pelicula['Título']}\")\n",
    "            print(f\"Género: {pelicula['Género']}\")\n",
    "            print(f\"Duración: {pelicula['Duración']}\")\n",
    "            return\n",
    "    print(\"No se encontró la película en la lista.\")\n",
    "\n",
    "def eliminar_pelicula():\n",
    "    print(\"Eliminar Película\")\n",
    "    titulo = input(\"Ingrese el título de la película a eliminar: \")\n",
    "    for pelicula in peliculas:\n",
    "        if pelicula[\"Título\"] == titulo:\n",
    "            peliculas.remove(pelicula)\n",
    "            print(\"Película eliminada.\")\n",
    "            return\n",
    "    print(\"No se encontró la película en la lista.\")\n",
    "\n",
    "while True:\n",
    "    print(\"Menú:\")\n",
    "    print(\"1. Almacenar película\")\n",
    "    print(\"2. Buscar película\")\n",
    "    print(\"3. Eliminar película\")\n",
    "    print(\"4. Salir\")\n",
    "    opcion = input(\"Ingrese el número de la opción deseada: \")\n",
    "    \n",
    "    if opcion == \"1\":\n",
    "        almacenar_pelicula()\n",
    "    elif opcion == \"2\":\n",
    "        buscar_pelicula()\n",
    "    elif opcion == \"3\":\n",
    "        eliminar_pelicula()\n",
    "    elif opcion == \"4\":\n",
    "        break\n",
    "    else:\n",
    "        print(\"Opción inválida. Por favor, ingrese un número válido.\")\n"
   ]
  },
  {
   "cell_type": "markdown",
   "metadata": {},
   "source": [
    "4. En una clase de matemáticas, se necesita un programa que calcule el \n",
    "promedio de los estudiantes. Crea una lista de calificaciones que incluya \n",
    "el nombre del estudiante y sus calificaciones en cada examen.\n",
    "• Crea una lista vacía para almacenar las calificaciones.\n",
    "• Pide al usuario que ingrese el nombre del estudiante y sus \n",
    "calificaciones.\n",
    "• Agrega cada calificación a la lista de calificaciones.\n",
    "• Calcula el promedio de cada estudiante y agrega la calificación \n",
    "promedio a la lista de calificaciones.\n",
    "• Imprime la lista de calificaciones"
   ]
  },
  {
   "cell_type": "code",
   "execution_count": null,
   "metadata": {},
   "outputs": [],
   "source": [
    "calificaciones = []\n",
    "\n",
    "def calcular_promedio(calificaciones_estudiante):\n",
    "    suma_calificaciones = sum(calificaciones_estudiante)\n",
    "    promedio = suma_calificaciones / len(calificaciones_estudiante)\n",
    "    return promedio\n",
    "\n",
    "while True:\n",
    "    print(\"Ingrese el nombre del estudiante (o 'salir' para terminar):\")\n",
    "    nombre = input(\"Nombre: \")\n",
    "    \n",
    "    if nombre.lower() == \"salir\":\n",
    "        break\n",
    "    \n",
    "    calificaciones_estudiante = []\n",
    "    \n",
    "    while True:\n",
    "        calificacion = float(input(\"Ingrese la calificación del estudiante (o 'fin' para terminar): \"))\n",
    "        \n",
    "        if calificacion == \"fin\":\n",
    "            break\n",
    "        \n",
    "        calificaciones_estudiante.append(calificacion)\n",
    "    \n",
    "    promedio_estudiante = calcular_promedio(calificaciones_estudiante)\n",
    "    \n",
    "    calificaciones.append({\"Nombre\": nombre, \"Calificaciones\": calificaciones_estudiante, \"Promedio\": promedio_estudiante})\n",
    "\n",
    "print(\"Lista de calificaciones:\")\n",
    "for estudiante in calificaciones:\n",
    "    print(f\"Nombre: {estudiante['Nombre']}\")\n",
    "    print(f\"Calificaciones: {estudiante['Calificaciones']}\")\n",
    "    print(f\"Promedio: {estudiante['Promedio']}\")\n",
    "    print()\n"
   ]
  },
  {
   "cell_type": "markdown",
   "metadata": {},
   "source": [
    "En un restaurante, se necesita un programa que calcule el total de una \n",
    "orden y el cambio a devolver al cliente. Crea una lista de productos que \n",
    "incluya nombre y precio.\n",
    "• Crea una lista vacía para almacenar los productos de la orden.\n",
    "• Pide al usuario que ingrese el nombre de cada producto y su \n",
    "cantidad.\n",
    "• Agrega cada producto a la lista de productos de la orden.\n",
    "• Calcula el total de la orden sumando el precio de cada producto \n",
    "multiplicado por su cantidad.\n",
    "• Pide al usuario que ingrese el pago del cliente.\n",
    "• Calcula el cambio a devolver al cliente.\n",
    "• Imprime el total de la orden y el cambio a devolver"
   ]
  },
  {
   "cell_type": "code",
   "execution_count": null,
   "metadata": {},
   "outputs": [],
   "source": [
    "# Crear una lista vacía para almacenar los productos de la orden\n",
    "productos_orden = []\n",
    "\n",
    "# Pedir al usuario que ingrese el nombre de cada producto y su cantidad\n",
    "while True:\n",
    "    nombre_producto = input(\"Ingrese el nombre del producto (o 'fin' para terminar): \")\n",
    "    \n",
    "    if nombre_producto.lower() == \"fin\":\n",
    "        break\n",
    "    \n",
    "    cantidad_producto = int(input(\"Ingrese la cantidad del producto: \"))\n",
    "    \n",
    "    # Agregar cada producto a la lista de productos de la orden\n",
    "    productos_orden.append({\"nombre\": nombre_producto, \"cantidad\": cantidad_producto})\n",
    "\n",
    "# Crear una lista de productos con nombre y precio\n",
    "productos = [\n",
    "    {\"nombre\": \"Producto 1\", \"precio\": 10.99},\n",
    "    {\"nombre\": \"Producto 2\", \"precio\": 5.99},\n",
    "    {\"nombre\": \"Producto 3\", \"precio\": 8.99}\n",
    "]\n",
    "\n",
    "# Calcular el total de la orden sumando el precio de cada producto multiplicado por su cantidad\n",
    "total_orden = 0\n",
    "for producto in productos_orden:\n",
    "    for p in productos:\n",
    "        if p[\"nombre\"] == producto[\"nombre\"]:\n",
    "            total_orden += p[\"precio\"] * producto[\"cantidad\"]\n",
    "            break\n",
    "\n",
    "# Pedir al usuario que ingrese el pago del cliente\n",
    "pago_cliente = float(input(\"Ingrese el pago del cliente: \"))\n",
    "\n",
    "# Calcular el cambio a devolver al cliente\n",
    "cambio = pago_cliente - total_orden\n",
    "\n",
    "# Imprimir el total de la orden y el cambio a devolver\n",
    "print(\"Total de la orden:\", total_orden)\n",
    "print(\"Cambio a devolver:\", cambio)\n"
   ]
  },
  {
   "cell_type": "markdown",
   "metadata": {},
   "source": [
    "En una agenda telefónica, se necesita un programa que permita buscar el \n",
    "número de teléfono de una persona. Crea un diccionario de contactos \n",
    "que incluya el nombre de la persona y su número de teléfono.\n",
    "• Crea un diccionario vacío para almacenar los contactos.\n",
    "• Pide al usuario que ingrese el nombre y el número de teléfono de \n",
    "cada contacto.\n",
    "• Agrega cada contacto al diccionario de contactos.\n",
    "• Pide al usuario que ingrese el nombre de la persona a buscar.\n",
    "• Busca el número de teléfono de la persona en el diccionario de \n",
    "contactos.\n",
    "• Imprime el número de teléfono"
   ]
  },
  {
   "cell_type": "code",
   "execution_count": null,
   "metadata": {},
   "outputs": [],
   "source": [
    "# Crear un diccionario vacío para almacenar los contactos\n",
    "agenda = {}\n",
    "\n",
    "# Pide al usuario que ingrese el nombre y el número de teléfono de cada contacto\n",
    "while True:\n",
    "    nombre = input(\"Ingrese el nombre del contacto (o 'fin' para terminar): \")\n",
    "    \n",
    "    if nombre.lower() == \"fin\":\n",
    "        break\n",
    "    \n",
    "    telefono = input(\"Ingrese el número de teléfono del contacto: \")\n",
    "    \n",
    "    # Agrega cada contacto al diccionario de contactos\n",
    "    agenda[nombre] = telefono\n",
    "\n",
    "# Pide al usuario que ingrese el nombre de la persona a buscar\n",
    "nombre_buscar = input(\"Ingrese el nombre de la persona a buscar: \")\n",
    "\n",
    "# Busca el número de teléfono de la persona en el diccionario de contactos\n",
    "if nombre_buscar in agenda:\n",
    "    telefono_persona = agenda[nombre_buscar]\n",
    "    print(f\"El número de teléfono de {nombre_buscar} es: {telefono_persona}\")\n",
    "else:\n",
    "    print(f\"No se encontró el contacto de {nombre_buscar} en la agenda.\")\n"
   ]
  },
  {
   "cell_type": "markdown",
   "metadata": {},
   "source": [
    "En un sistema de inventario, se necesita un programa que permita \n",
    "actualizar el stock de un producto. Crea un diccionario de productos que \n",
    "incluya el nombre del producto y su stock.\n",
    "• Crea un diccionario vacío para almacenar los productos.\n",
    "• Pide al usuario que ingrese el nombre y el stock de cada producto.\n",
    "• Agrega cada producto al diccionario de productos.\n",
    "• Pide al usuario que ingrese el nombre del producto a actualizar.\n",
    "• Pide al usuario que ingrese la cantidad de stock a agregar o quitar.\n",
    "• Actualiza el stock del producto en el diccionario de productos.\n",
    "• Imprime el stock actualizado del producto"
   ]
  },
  {
   "cell_type": "code",
   "execution_count": null,
   "metadata": {},
   "outputs": [],
   "source": [
    "# Crear un diccionario vacío para almacenar los productos\n",
    "productos = {}\n",
    "\n",
    "# Pide al usuario que ingrese el nombre y el stock de cada producto\n",
    "while True:\n",
    "    nombre_producto = input(\"Ingrese el nombre del producto (o 'fin' para terminar): \")\n",
    "    \n",
    "    if nombre_producto.lower() == \"fin\":\n",
    "        break\n",
    "    \n",
    "    stock_producto = int(input(\"Ingrese el stock del producto: \"))\n",
    "    \n",
    "    # Agrega cada producto al diccionario de productos\n",
    "    productos[nombre_producto] = stock_producto\n",
    "\n",
    "# Pide al usuario que ingrese el nombre del producto a actualizar\n",
    "nombre_actualizar = input(\"Ingrese el nombre del producto a actualizar: \")\n",
    "\n",
    "# Verifica si el producto existe en el diccionario de productos\n",
    "if nombre_actualizar in productos:\n",
    "    stock_actual = productos[nombre_actualizar]\n",
    "    print(f\"El stock actual del producto '{nombre_actualizar}' es: {stock_actual}\")\n",
    "    \n",
    "    # Pide al usuario que ingrese la cantidad de stock a agregar o quitar\n",
    "    cantidad_actualizar = int(input(\"Ingrese la cantidad de stock a agregar o quitar: \"))\n",
    "    \n",
    "    # Actualiza el stock del producto en el diccionario de productos\n",
    "    stock_actualizado = stock_actual + cantidad_actualizar\n",
    "    productos[nombre_actualizar] = stock_actualizado\n",
    "    \n",
    "    print(f\"El stock actualizado del producto '{nombre_actualizar}' es: {stock_actualizado}\")\n",
    "else:\n",
    "    print(f\"No se encontró el producto '{nombre_actualizar}' en el inventario.\")\n"
   ]
  },
  {
   "cell_type": "markdown",
   "metadata": {},
   "source": [
    "En un programa de chat, se necesita un programa que verifique si un \n",
    "mensaje enviado por un usuario contiene alguna palabra prohibida. Si \n",
    "contiene alguna palabra prohibida, el mensaje debe ser censurado. Crea \n",
    "una lista de palabras prohibidas.\n",
    "• Pide al usuario que ingrese un mensaje.\n",
    "• Verifica si el mensaje contiene alguna palabra prohibida.\n",
    "• Si contiene alguna palabra prohibida, censura el mensaje \n",
    "reemplazando las palabras prohibidas por asteriscos.\n",
    "• Imprime el mensaje censurado o el mensaje original si no contiene \n",
    "palabras prohibidas."
   ]
  },
  {
   "cell_type": "code",
   "execution_count": 2,
   "metadata": {},
   "outputs": [
    {
     "name": "stdout",
     "output_type": "stream",
     "text": [
      "Mensaje censurado:\n",
      "hOLA MI GENTE **********\n"
     ]
    }
   ],
   "source": [
    "# Crear una lista de palabras prohibidas\n",
    "palabras_prohibidas = [\"prohibida1\", \"prohibida2\", \"prohibida3\"]\n",
    "\n",
    "# Pedir al usuario que ingrese un mensaje\n",
    "mensaje = input(\"Ingrese un mensaje: \")\n",
    "\n",
    "# Verificar si el mensaje contiene alguna palabra prohibida\n",
    "contiene_prohibida = False\n",
    "for palabra in palabras_prohibidas:\n",
    "    if palabra in mensaje:\n",
    "        contiene_prohibida = True\n",
    "        break\n",
    "\n",
    "# Censurar el mensaje si contiene palabras prohibidas\n",
    "if contiene_prohibida:\n",
    "    for palabra in palabras_prohibidas:\n",
    "        mensaje = mensaje.replace(palabra, \"*\" * len(palabra))\n",
    "\n",
    "# Imprimir el mensaje censurado o el mensaje original\n",
    "print(\"Mensaje censurado:\" if contiene_prohibida else \"Mensaje original:\")\n",
    "print(mensaje)\n"
   ]
  },
  {
   "cell_type": "markdown",
   "metadata": {},
   "source": [
    "En un programa de cálculo de impuestos, se necesita una función que \n",
    "calcule el impuesto a pagar según el ingreso y la tasa de impuestos.\n",
    "• Define una función que tome como parámetros el ingreso y la tasa de \n",
    "impuestos.\n",
    "• Calcula el impuesto a pagar multiplicando el ingreso por la tasa de \n",
    "impuestos.\n",
    "• Retorna el impuesto a pagar."
   ]
  },
  {
   "cell_type": "code",
   "execution_count": null,
   "metadata": {},
   "outputs": [],
   "source": [
    "def calcular_impuesto(ingreso, tasa_impuestos):\n",
    "  impuesto = ingreso * tasa_impuestos\n",
    "  return impuesto\n",
    "\n",
    "# Ingresar valores del usuario\n",
    "ingreso = float(input(\"Ingrese su ingreso anual: \"))\n",
    "tasa_impuestos = float(input(\"Ingrese la tasa de impuestos (en decimal): \"))\n",
    "\n",
    "# Calcular el impuesto\n",
    "impuesto_a_pagar = calcular_impuesto(ingreso, tasa_impuestos)\n",
    "\n",
    "# Mostrar el resultado\n",
    "print(f\"Impuesto a pagar: ${impuesto_a_pagar:.2f}\")\n"
   ]
  },
  {
   "cell_type": "markdown",
   "metadata": {},
   "source": [
    "En un programa de compras en línea, se necesita una función que calcule \n",
    "el precio total de la compra, incluyendo el descuento si corresponde.\n",
    "• Define una función que tome como parámetros el precio de cada \n",
    "producto y la cantidad comprada.\n",
    "• Calcula el precio total de la compra multiplicando el precio de cada \n",
    "producto por la cantidad comprada.\n",
    "• Si la compra supera el valor de 120.000, aplica un descuento del 10%.\n",
    "• Retorna el precio total de la compra"
   ]
  },
  {
   "cell_type": "code",
   "execution_count": null,
   "metadata": {},
   "outputs": [],
   "source": [
    "def calcular_total_compra(precio_producto, cantidad):\n",
    "  total_compra = precio_producto * cantidad\n",
    "\n",
    "  # Aplicar descuento si la compra supera $120.000\n",
    "  if total_compra > 120000:\n",
    "    descuento = total_compra * 0.1\n",
    "    total_compra -= descuento\n",
    "\n",
    "  return total_compra\n",
    "\n",
    "# Pedimos los datos\n",
    "precio_producto = float(input(\"Ingrese el precio del producto: \"))\n",
    "cantidad = int(input(\"Ingrese la cantidad de productos a comprar: \"))\n",
    "\n",
    "total_a_pagar = calcular_total_compra(precio_producto, cantidad)\n",
    "\n",
    "print(f\"Total a pagar: ${total_a_pagar:.2f}\")\n"
   ]
  }
 ],
 "metadata": {
  "kernelspec": {
   "display_name": "Python 3",
   "language": "python",
   "name": "python3"
  },
  "language_info": {
   "codemirror_mode": {
    "name": "ipython",
    "version": 3
   },
   "file_extension": ".py",
   "mimetype": "text/x-python",
   "name": "python",
   "nbconvert_exporter": "python",
   "pygments_lexer": "ipython3",
   "version": "3.12.2"
  }
 },
 "nbformat": 4,
 "nbformat_minor": 2
}
