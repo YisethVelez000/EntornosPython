{
 "cells": [
  {
   "cell_type": "code",
   "execution_count": 3,
   "metadata": {},
   "outputs": [
    {
     "name": "stdout",
     "output_type": "stream",
     "text": [
      "Desarrollador\n"
     ]
    }
   ],
   "source": [
    "mi_primera_chamba = \"Desarrollador\"\n",
    "print(mi_primera_chamba)"
   ]
  },
  {
   "cell_type": "markdown",
   "metadata": {},
   "source": [
    "Tipos de datos en python\n"
   ]
  },
  {
   "cell_type": "code",
   "execution_count": 5,
   "metadata": {},
   "outputs": [
    {
     "data": {
      "text/plain": [
       "int"
      ]
     },
     "execution_count": 5,
     "metadata": {},
     "output_type": "execute_result"
    }
   ],
   "source": [
    "Edad= 25\n",
    "Peso = 70.5\n",
    "Nombre = \"Juan\"\n",
    "Mascota = True\n",
    "type(Edad)"
   ]
  },
  {
   "cell_type": "markdown",
   "metadata": {},
   "source": [
    "Condicionales"
   ]
  },
  {
   "cell_type": "code",
   "execution_count": 11,
   "metadata": {},
   "outputs": [
    {
     "name": "stdout",
     "output_type": "stream",
     "text": [
      "Contratar\n",
      "El correo es valido\n",
      "@\n",
      "Perez\n"
     ]
    }
   ],
   "source": [
    "contratado = False\n",
    "if not contratado:\n",
    " print(\"Contratar\")\n",
    "\n",
    "correo = \"micorreo@correo.com\"\n",
    "\n",
    "if '@' in correo:\n",
    "    print('El correo es valido')\n",
    "\n",
    "print (correo[8])\n",
    "nombre_completo = \"Juan Perez\"\n",
    "nombre_completo = nombre_completo.split(' ')\n",
    "print(nombre_completo[1])"
   ]
  },
  {
   "cell_type": "markdown",
   "metadata": {},
   "source": [
    "Ciclos"
   ]
  },
  {
   "cell_type": "code",
   "execution_count": 18,
   "metadata": {},
   "outputs": [
    {
     "name": "stdout",
     "output_type": "stream",
     "text": [
      "1\n",
      "3\n",
      "5\n",
      "Decremento\n",
      "10\n",
      "9\n",
      "8\n",
      "7\n",
      "6\n",
      "5\n",
      "4\n",
      "3\n",
      "2\n",
      "1\n",
      "Correo usando in range\n",
      "m\n",
      "i\n",
      "c\n",
      "o\n",
      "r\n",
      "r\n",
      "e\n",
      "o\n",
      "@\n",
      "c\n",
      "o\n",
      "r\n",
      "r\n",
      "e\n",
      "o\n",
      ".\n",
      "c\n",
      "o\n",
      "m\n",
      "Correo usando len\n",
      "0\n",
      "1\n",
      "2\n",
      "3\n",
      "4\n",
      "5\n",
      "6\n",
      "7\n",
      "8\n",
      "9\n",
      "10\n",
      "11\n",
      "12\n",
      "13\n",
      "14\n",
      "15\n",
      "16\n",
      "17\n",
      "18\n"
     ]
    }
   ],
   "source": [
    "for i in range(1,6,2): # El primer digito es el inicio, el segundo el final, el tercero incremento\n",
    "    print(i)\n",
    "print('Decremento')\n",
    "#Decremento\n",
    "for i in range(10,0,-1): # El primer digito es el inicio, el segundo el final, el tercero decremento, el número segundo siempre debe ser 0 o menor\n",
    "    print(i)\n",
    "print('Correo usando in range')\n",
    "for i in correo:\n",
    "    print(i)\n",
    "print(\"Correo usando len\")\n",
    "for i in range(len(correo)):\n",
    "    print(i)"
   ]
  }
 ],
 "metadata": {
  "kernelspec": {
   "display_name": "Python 3",
   "language": "python",
   "name": "python3"
  },
  "language_info": {
   "codemirror_mode": {
    "name": "ipython",
    "version": 3
   },
   "file_extension": ".py",
   "mimetype": "text/x-python",
   "name": "python",
   "nbconvert_exporter": "python",
   "pygments_lexer": "ipython3",
   "version": "3.12.2"
  }
 },
 "nbformat": 4,
 "nbformat_minor": 2
}
