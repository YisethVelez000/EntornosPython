{
 "cells": [
  {
   "cell_type": "code",
   "execution_count": null,
   "metadata": {},
   "outputs": [],
   "source": [
    "mi_primera_chamba = \"Desarrollador\"\n",
    "print(mi_primera_chamba)"
   ]
  },
  {
   "cell_type": "markdown",
   "metadata": {},
   "source": [
    "Tipos de datos en python\n"
   ]
  },
  {
   "cell_type": "code",
   "execution_count": null,
   "metadata": {},
   "outputs": [],
   "source": [
    "Edad= 25\n",
    "Peso = 70.5\n",
    "Nombre = \"Juan\"\n",
    "Mascota = True\n",
    "type(Edad)"
   ]
  },
  {
   "cell_type": "markdown",
   "metadata": {},
   "source": [
    "Condicionales"
   ]
  },
  {
   "cell_type": "code",
   "execution_count": null,
   "metadata": {},
   "outputs": [],
   "source": [
    "contratado = False\n",
    "if not contratado:\n",
    " print(\"Contratar\")\n",
    "\n",
    "correo = \"micorreo@correo.com\"\n",
    "\n",
    "if '@' in correo:\n",
    "    print('El correo es valido')\n",
    "\n",
    "print (correo[8])\n",
    "nombre_completo = \"Juan Perez\"\n",
    "nombre_completo = nombre_completo.split(' ')\n",
    "print(nombre_completo[1])"
   ]
  },
  {
   "cell_type": "markdown",
   "metadata": {},
   "source": [
    "Ciclos"
   ]
  },
  {
   "cell_type": "code",
   "execution_count": null,
   "metadata": {},
   "outputs": [],
   "source": [
    "for i in range(1,6,2): # El primer digito es el inicio, el segundo el final, el tercero incremento\n",
    "    print(i)\n",
    "print('Decremento')\n",
    "#Decremento\n",
    "for i in range(10,0,-1): # El primer digito es el inicio, el segundo el final, el tercero decremento, el número segundo siempre debe ser 0 o menor\n",
    "    print(i)\n",
    "print('Correo usando in range')\n",
    "for i in correo:\n",
    "    print(i)\n",
    "print(\"Correo usando len\")\n",
    "for i in range(len(correo)):\n",
    "    print(i)"
   ]
  },
  {
   "cell_type": "code",
   "execution_count": null,
   "metadata": {},
   "outputs": [],
   "source": [
    "i = 1\n",
    "while i<5:\n",
    "    print(i)\n",
    "    i+=1\n",
    "\n",
    "while True:\n",
    "    print('Hola')\n",
    "    break;\n"
   ]
  },
  {
   "cell_type": "markdown",
   "metadata": {},
   "source": [
    "Funciones"
   ]
  },
  {
   "cell_type": "code",
   "execution_count": 6,
   "metadata": {},
   "outputs": [
    {
     "name": "stdout",
     "output_type": "stream",
     "text": [
      "Funcion que no retorna\n",
      "Hola mundo\n",
      "None\n",
      "Funcion que retorna\n",
      "Hola mundo\n",
      "Hola mundoRetorno con una variable guardada\n",
      "10\n"
     ]
    }
   ],
   "source": [
    "#Funcion que no retorna\n",
    "print('Funcion que no retorna')\n",
    "def saludo():\n",
    "    print('Hola mundo')\n",
    "\n",
    "saludo()\n",
    "\n",
    "print('Funcion que retorna')\n",
    "# funcion que retorna\n",
    "def saludar():\n",
    "    return 'Hola mundo'\n",
    "\n",
    "variableSaludar = saludar()\n",
    "print(saludar())\n",
    "print(variableSaludar + 'Retorno con una variable guardada')\n",
    "print(len(variableSaludar))"
   ]
  },
  {
   "cell_type": "markdown",
   "metadata": {},
   "source": [
    "Crear una funcion que reciba el nombre de una persona y lo retorne\n",
    "Crear una funncion que reciba el retorno de la funcion anterior y le imprima el número de veces de la cantidad de letras"
   ]
  },
  {
   "cell_type": "code",
   "execution_count": 2,
   "metadata": {},
   "outputs": [
    {
     "name": "stdout",
     "output_type": "stream",
     "text": [
      "Alison\n",
      "Alison\n",
      "Alison\n",
      "Alison\n",
      "Alison\n",
      "Alison\n"
     ]
    }
   ],
   "source": [
    "def nombreCompleto(nombre):\n",
    "    return nombre\n",
    "\n",
    "nombre= 'Alison'\n",
    "\n",
    "\n",
    "variableNombre = nombreCompleto(nombre)\n",
    "def imprimirnombre(variableNombre):\n",
    "    for i in variableNombre:\n",
    "        print(variableNombre)\n",
    "\n",
    "imprimirnombre(variableNombre)\n",
    "    "
   ]
  }
 ],
 "metadata": {
  "kernelspec": {
   "display_name": "Python 3",
   "language": "python",
   "name": "python3"
  },
  "language_info": {
   "codemirror_mode": {
    "name": "ipython",
    "version": 3
   },
   "file_extension": ".py",
   "mimetype": "text/x-python",
   "name": "python",
   "nbconvert_exporter": "python",
   "pygments_lexer": "ipython3",
   "version": "3.12.2"
  }
 },
 "nbformat": 4,
 "nbformat_minor": 2
}
