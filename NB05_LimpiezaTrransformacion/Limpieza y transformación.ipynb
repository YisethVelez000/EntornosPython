{
 "cells": [
  {
   "cell_type": "markdown",
   "metadata": {},
   "source": [
    "**<center><h1>LIMPIEZA Y TRANSFORMACIÓN DE DATOS</h1><center>**"
   ]
  },
  {
   "cell_type": "markdown",
   "metadata": {},
   "source": [
    "La limpieza de datos es fundamental para preparar los datos sin procesar para aplicaciones de Machine Learning (ML) y de inteligencia empresarial (BI). Los datos limpios y precisos son esenciales, especialmente para entrenar modelos de ML, ya que el uso de conjuntos de datos de entrenamiento de mala calidad puede llevar a predicciones erróneas en modelos implementados."
   ]
  },
  {
   "cell_type": "code",
   "execution_count": 84,
   "metadata": {},
   "outputs": [],
   "source": [
    "#importar pandas\n",
    "import pandas as pd\n",
    "import matplotlib\n",
    "import numpy as np"
   ]
  },
  {
   "cell_type": "code",
   "execution_count": 85,
   "metadata": {},
   "outputs": [],
   "source": [
    "# Cargar el dataset\n",
    "df = pd.read_excel('Dataset_final.xlsx')"
   ]
  },
  {
   "cell_type": "code",
   "execution_count": 86,
   "metadata": {},
   "outputs": [
    {
     "name": "stdout",
     "output_type": "stream",
     "text": [
      "<class 'pandas.core.frame.DataFrame'>\n",
      "RangeIndex: 295 entries, 0 to 294\n",
      "Data columns (total 15 columns):\n",
      " #   Column                     Non-Null Count  Dtype  \n",
      "---  ------                     --------------  -----  \n",
      " 0   Documento                  295 non-null    int64  \n",
      " 1   Nombre                     295 non-null    object \n",
      " 2   Apellidos                  295 non-null    object \n",
      " 3   Direccción                 295 non-null    object \n",
      " 4   Teléfono                   295 non-null    object \n",
      " 5   Edad                       295 non-null    int64  \n",
      " 6   Estatura                   295 non-null    float64\n",
      " 7   Área de residencia         294 non-null    object \n",
      " 8   Tipo colegio               294 non-null    object \n",
      " 9   Género                     294 non-null    object \n",
      " 10  Estrato                    294 non-null    float64\n",
      " 11  Nota Matematicas           294 non-null    float64\n",
      " 12  Nota Lecto Escritura       294 non-null    float64\n",
      " 13  Apoyo económico de padres  294 non-null    object \n",
      " 14  Último grado cursado       294 non-null    float64\n",
      "dtypes: float64(5), int64(2), object(8)\n",
      "memory usage: 34.7+ KB\n"
     ]
    }
   ],
   "source": [
    "#Obtener informacion del dataset\n",
    "df.info()"
   ]
  },
  {
   "cell_type": "code",
   "execution_count": 87,
   "metadata": {},
   "outputs": [
    {
     "data": {
      "text/plain": [
       "Documento                    0\n",
       "Nombre                       0\n",
       "Apellidos                    0\n",
       "Direccción                   0\n",
       "Teléfono                     0\n",
       "Edad                         0\n",
       "Estatura                     0\n",
       "Área de residencia           1\n",
       "Tipo colegio                 1\n",
       "Género                       1\n",
       "Estrato                      1\n",
       "Nota Matematicas             1\n",
       "Nota Lecto Escritura         1\n",
       "Apoyo económico de padres    1\n",
       "Último grado cursado         1\n",
       "dtype: int64"
      ]
     },
     "execution_count": 87,
     "metadata": {},
     "output_type": "execute_result"
    }
   ],
   "source": [
    "#Obtener la cantidad de nulos por columna\n",
    "df.isnull().sum()"
   ]
  },
  {
   "cell_type": "code",
   "execution_count": 88,
   "metadata": {},
   "outputs": [],
   "source": [
    "#Eliminar las filas con valores nulos\n",
    "df= df.dropna()"
   ]
  },
  {
   "cell_type": "code",
   "execution_count": 89,
   "metadata": {},
   "outputs": [
    {
     "data": {
      "text/plain": [
       "<Axes: >"
      ]
     },
     "execution_count": 89,
     "metadata": {},
     "output_type": "execute_result"
    }
   ],
   "source": [
    "#Visualizar valores atípicos con gráficos\n",
    "df.boxplot(column='Edad')\n"
   ]
  },
  {
   "cell_type": "code",
   "execution_count": 90,
   "metadata": {},
   "outputs": [],
   "source": [
    "#Eliminar las columnas que no se van a utilizar\n",
    "df= df.drop(['Documento','Nombre','Apellidos','Direccción','Teléfono','Edad','Estatura','Área de residencia','Tipo colegio','Estrato','Género','Último grado cursado'],axis=1)"
   ]
  },
  {
   "cell_type": "code",
   "execution_count": 91,
   "metadata": {},
   "outputs": [],
   "source": [
    "#Reemplazar Sí por Si en la columna \"Apoyo económico de padres\"\n",
    "df['Apoyo económico de padres'] = df['Apoyo económico de padres'].replace('Sí', 'Si')\n",
    "\n",
    "#Crear la columna \"Apoyo economico\" y asignarle un valor de 0 si es no o 1 si es si\n",
    "df['Apoyo económico de padres'] = np.where(df['Apoyo económico de padres'] == 'Si', 1, 0)"
   ]
  },
  {
   "cell_type": "code",
   "execution_count": 92,
   "metadata": {},
   "outputs": [],
   "source": [
    "#Cambiar el nombre de las columnas a matematicas, lecto_escritura y apoyo_economico\n",
    "df.columns = ['matematicas', 'lecto_escritura', 'apoyo_economico']\n"
   ]
  },
  {
   "cell_type": "code",
   "execution_count": 93,
   "metadata": {},
   "outputs": [],
   "source": [
    "# Crear la columna \"promedio\"\n",
    "df['promedio'] = (df['matematicas'] + df['lecto_escritura']) / 2"
   ]
  },
  {
   "cell_type": "code",
   "execution_count": 94,
   "metadata": {},
   "outputs": [],
   "source": [
    "#Crear la columna riesgo y asignarle un valor de 1 si Apoyo economico es 0 y Promedio Notas es menor a 3.5 o 0 en caso contrario\n",
    "df['riesgo'] = np.where((df['apoyo_economico'] == 0) & (df['promedio'] < 3.5), 1, 0)"
   ]
  },
  {
   "cell_type": "code",
   "execution_count": 95,
   "metadata": {},
   "outputs": [],
   "source": [
    "#Convertimos el df a un excel\n",
    "df.to_excel('datase_limpio.xlsx', index=False)"
   ]
  }
 ],
 "metadata": {
  "kernelspec": {
   "display_name": "Python 3",
   "language": "python",
   "name": "python3"
  },
  "language_info": {
   "codemirror_mode": {
    "name": "ipython",
    "version": 3
   },
   "file_extension": ".py",
   "mimetype": "text/x-python",
   "name": "python",
   "nbconvert_exporter": "python",
   "pygments_lexer": "ipython3",
   "version": "3.12.2"
  }
 },
 "nbformat": 4,
 "nbformat_minor": 2
}
